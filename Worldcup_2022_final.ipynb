{
 "cells": [
  {
   "cell_type": "code",
   "execution_count": 1,
   "id": "b8ecc2b1",
   "metadata": {},
   "outputs": [],
   "source": [
    "import pandas as pd\n",
    "import numpy as np \n",
    "from sklearn.linear_model import LogisticRegression\n",
    "argentina= pd.read_csv('argentina.csv')\n",
    "france = pd.read_csv('france.csv')"
   ]
  },
  {
   "cell_type": "code",
   "execution_count": 4,
   "id": "1f050c94",
   "metadata": {},
   "outputs": [],
   "source": [
    "argentina['K'] = (argentina['TARGET'].replace({-1: 0}) * 3 + argentina['TARGET'].replace({-1: 0, 0: 1, 1: 0})).cumsum() / range(1, len(argentina) + 1) + 1\n",
    "france['K'] = (france['TARGET'].replace({-1: 0}) * 3 + france['TARGET'].replace({-1: 0, 0: 1, 1: 0})).cumsum() / range(1, len(france) + 1) + 1\n",
    "\n",
    "argentina_initial_ratings = {'ATTD': 86, 'MIDD': 82, 'DEFD': 81}\n",
    "france_initial_ratings = {'ATTD': 86, 'MIDD': 82, 'DEFD': 82}"
   ]
  },
  {
   "cell_type": "code",
   "execution_count": 5,
   "id": "56fc3c96",
   "metadata": {},
   "outputs": [],
   "source": [
    "for department in ['ATTD', 'MIDD', 'DEFD']:\n",
    "    argentina_initial_ratings[department] *= argentina['K'].iloc[-1]\n",
    "    france_initial_ratings[department] *= france['K'].iloc[-1]"
   ]
  },
  {
   "cell_type": "code",
   "execution_count": 6,
   "id": "f3017abb",
   "metadata": {},
   "outputs": [],
   "source": [
    "argentina['ATTD_DIFF'] = argentina_initial_ratings['ATTD'] - france_initial_ratings['ATTD']\n",
    "argentina['MIDD_DIFF'] = argentina_initial_ratings['MIDD'] - france_initial_ratings['MIDD']\n",
    "argentina['DEFD_DIFF'] = argentina_initial_ratings['DEFD'] - france_initial_ratings['DEFD']\n",
    "\n",
    "france['ATTD_DIFF'] = france_initial_ratings['ATTD'] - argentina_initial_ratings['ATTD']\n",
    "france['MIDD_DIFF'] = france_initial_ratings['MIDD'] - argentina_initial_ratings['MIDD']\n",
    "france['DEFD_DIFF'] = france_initial_ratings['DEFD'] - argentina_initial_ratings['DEFD']"
   ]
  },
  {
   "cell_type": "code",
   "execution_count": 9,
   "id": "7ccde5e1",
   "metadata": {},
   "outputs": [
    {
     "data": {
      "text/html": [
       "<style>#sk-container-id-1 {color: black;background-color: white;}#sk-container-id-1 pre{padding: 0;}#sk-container-id-1 div.sk-toggleable {background-color: white;}#sk-container-id-1 label.sk-toggleable__label {cursor: pointer;display: block;width: 100%;margin-bottom: 0;padding: 0.3em;box-sizing: border-box;text-align: center;}#sk-container-id-1 label.sk-toggleable__label-arrow:before {content: \"▸\";float: left;margin-right: 0.25em;color: #696969;}#sk-container-id-1 label.sk-toggleable__label-arrow:hover:before {color: black;}#sk-container-id-1 div.sk-estimator:hover label.sk-toggleable__label-arrow:before {color: black;}#sk-container-id-1 div.sk-toggleable__content {max-height: 0;max-width: 0;overflow: hidden;text-align: left;background-color: #f0f8ff;}#sk-container-id-1 div.sk-toggleable__content pre {margin: 0.2em;color: black;border-radius: 0.25em;background-color: #f0f8ff;}#sk-container-id-1 input.sk-toggleable__control:checked~div.sk-toggleable__content {max-height: 200px;max-width: 100%;overflow: auto;}#sk-container-id-1 input.sk-toggleable__control:checked~label.sk-toggleable__label-arrow:before {content: \"▾\";}#sk-container-id-1 div.sk-estimator input.sk-toggleable__control:checked~label.sk-toggleable__label {background-color: #d4ebff;}#sk-container-id-1 div.sk-label input.sk-toggleable__control:checked~label.sk-toggleable__label {background-color: #d4ebff;}#sk-container-id-1 input.sk-hidden--visually {border: 0;clip: rect(1px 1px 1px 1px);clip: rect(1px, 1px, 1px, 1px);height: 1px;margin: -1px;overflow: hidden;padding: 0;position: absolute;width: 1px;}#sk-container-id-1 div.sk-estimator {font-family: monospace;background-color: #f0f8ff;border: 1px dotted black;border-radius: 0.25em;box-sizing: border-box;margin-bottom: 0.5em;}#sk-container-id-1 div.sk-estimator:hover {background-color: #d4ebff;}#sk-container-id-1 div.sk-parallel-item::after {content: \"\";width: 100%;border-bottom: 1px solid gray;flex-grow: 1;}#sk-container-id-1 div.sk-label:hover label.sk-toggleable__label {background-color: #d4ebff;}#sk-container-id-1 div.sk-serial::before {content: \"\";position: absolute;border-left: 1px solid gray;box-sizing: border-box;top: 0;bottom: 0;left: 50%;z-index: 0;}#sk-container-id-1 div.sk-serial {display: flex;flex-direction: column;align-items: center;background-color: white;padding-right: 0.2em;padding-left: 0.2em;position: relative;}#sk-container-id-1 div.sk-item {position: relative;z-index: 1;}#sk-container-id-1 div.sk-parallel {display: flex;align-items: stretch;justify-content: center;background-color: white;position: relative;}#sk-container-id-1 div.sk-item::before, #sk-container-id-1 div.sk-parallel-item::before {content: \"\";position: absolute;border-left: 1px solid gray;box-sizing: border-box;top: 0;bottom: 0;left: 50%;z-index: -1;}#sk-container-id-1 div.sk-parallel-item {display: flex;flex-direction: column;z-index: 1;position: relative;background-color: white;}#sk-container-id-1 div.sk-parallel-item:first-child::after {align-self: flex-end;width: 50%;}#sk-container-id-1 div.sk-parallel-item:last-child::after {align-self: flex-start;width: 50%;}#sk-container-id-1 div.sk-parallel-item:only-child::after {width: 0;}#sk-container-id-1 div.sk-dashed-wrapped {border: 1px dashed gray;margin: 0 0.4em 0.5em 0.4em;box-sizing: border-box;padding-bottom: 0.4em;background-color: white;}#sk-container-id-1 div.sk-label label {font-family: monospace;font-weight: bold;display: inline-block;line-height: 1.2em;}#sk-container-id-1 div.sk-label-container {text-align: center;}#sk-container-id-1 div.sk-container {/* jupyter's `normalize.less` sets `[hidden] { display: none; }` but bootstrap.min.css set `[hidden] { display: none !important; }` so we also need the `!important` here to be able to override the default hidden behavior on the sphinx rendered scikit-learn.org. See: https://github.com/scikit-learn/scikit-learn/issues/21755 */display: inline-block !important;position: relative;}#sk-container-id-1 div.sk-text-repr-fallback {display: none;}</style><div id=\"sk-container-id-1\" class=\"sk-top-container\"><div class=\"sk-text-repr-fallback\"><pre>LogisticRegression()</pre><b>In a Jupyter environment, please rerun this cell to show the HTML representation or trust the notebook. <br />On GitHub, the HTML representation is unable to render, please try loading this page with nbviewer.org.</b></div><div class=\"sk-container\" hidden><div class=\"sk-item\"><div class=\"sk-estimator sk-toggleable\"><input class=\"sk-toggleable__control sk-hidden--visually\" id=\"sk-estimator-id-1\" type=\"checkbox\" checked><label for=\"sk-estimator-id-1\" class=\"sk-toggleable__label sk-toggleable__label-arrow\">LogisticRegression</label><div class=\"sk-toggleable__content\"><pre>LogisticRegression()</pre></div></div></div></div></div>"
      ],
      "text/plain": [
       "LogisticRegression()"
      ]
     },
     "execution_count": 9,
     "metadata": {},
     "output_type": "execute_result"
    }
   ],
   "source": [
    "model_argentina = LogisticRegression()\n",
    "model_france = LogisticRegression()\n",
    "model_argentina.fit(argentina[['ATTD_DIFF', 'MIDD_DIFF', 'DEFD_DIFF']], argentina['TARGET'])\n",
    "model_france.fit(france[['ATTD_DIFF', 'MIDD_DIFF', 'DEFD_DIFF']], france['TARGET'])\n"
   ]
  },
  {
   "cell_type": "code",
   "execution_count": 10,
   "id": "826618a3",
   "metadata": {},
   "outputs": [],
   "source": [
    "team_a_attack_diff = argentina['ATTD_DIFF'].iloc[-1]\n",
    "team_a_midfield_diff = argentina['MIDD_DIFF'].iloc[-1]\n",
    "team_a_defense_diff = argentina['DEFD_DIFF'].iloc[-1]\n",
    "\n",
    "team_b_attack_diff = -argentina['ATTD_DIFF'].iloc[-1]\n",
    "team_b_midfield_diff = -argentina['MIDD_DIFF'].iloc[-1]\n",
    "team_b_defense_diff = -argentina['DEFD_DIFF'].iloc[-1]"
   ]
  },
  {
   "cell_type": "code",
   "execution_count": 11,
   "id": "bf3dcb06",
   "metadata": {},
   "outputs": [
    {
     "name": "stdout",
     "output_type": "stream",
     "text": [
      "The match is predicted to end in a draw.\n"
     ]
    },
    {
     "name": "stderr",
     "output_type": "stream",
     "text": [
      "/home/harsh/anaconda3/lib/python3.10/site-packages/sklearn/base.py:420: UserWarning: X does not have valid feature names, but LogisticRegression was fitted with feature names\n",
      "  warnings.warn(\n",
      "/home/harsh/anaconda3/lib/python3.10/site-packages/sklearn/base.py:420: UserWarning: X does not have valid feature names, but LogisticRegression was fitted with feature names\n",
      "  warnings.warn(\n"
     ]
    }
   ],
   "source": [
    "team_argentina_prediction = model_argentina.predict([[team_a_attack_diff, team_a_midfield_diff, team_a_defense_diff]])\n",
    "team_france_prediction = model_france.predict([[team_b_attack_diff, team_b_midfield_diff, team_b_defense_diff]])\n",
    "\n",
    "if team_argentina_prediction > team_france_prediction:\n",
    "    print(\"Argentina is expected to win.\")\n",
    "elif team_argentina_prediction < team_france_prediction:\n",
    "    print(\"France is expected to win.\")\n",
    "else:\n",
    "    print(\"The match is predicted to end in a draw.\")"
   ]
  },
  {
   "cell_type": "code",
   "execution_count": 12,
   "id": "14b0c29d",
   "metadata": {},
   "outputs": [
    {
     "name": "stdout",
     "output_type": "stream",
     "text": [
      "Predictions for Argentina:\n",
      "Penalty Winner Model Accuracy: 60.00%\n",
      "Predicted Penalty Winner: Team B\n",
      "Predicted Penalty Winner: Team A\n",
      "Predicted Penalty Winner: Team A\n",
      "Predicted Penalty Winner: Team A\n",
      "Predicted Penalty Winner: Team A\n",
      "\n",
      "Predictions for France:\n",
      "Penalty Winner Model Accuracy: 40.00%\n",
      "Predicted Penalty Winner: Team A\n",
      "Predicted Penalty Winner: Team A\n",
      "Predicted Penalty Winner: Team A\n",
      "Predicted Penalty Winner: Team A\n",
      "Predicted Penalty Winner: Team A\n"
     ]
    }
   ],
   "source": [
    "from sklearn.model_selection import train_test_split\n",
    "from sklearn.metrics import accuracy_score\n",
    "\n",
    "def predict_penalty_winner(dataset_file):\n",
    "\n",
    "    data = pd.read_csv(dataset_file)\n",
    "\n",
    "    X = data[['ATTD', 'MIDD', 'DEFD']]  \n",
    "    y_penalty_winner = data['TARGET'] \n",
    "\n",
    "    X_train, X_test, y_penalty_winner_train, y_penalty_winner_test = train_test_split(\n",
    "        X, y_penalty_winner, test_size=0.2, random_state=42)\n",
    "\n",
    "    penalty_winner_model = LogisticRegression()\n",
    "    penalty_winner_model.fit(X_train, y_penalty_winner_train)\n",
    "\n",
    "    penalty_winner_predictions = penalty_winner_model.predict(X_test)\n",
    "\n",
    "    accuracy = accuracy_score(y_penalty_winner_test, penalty_winner_predictions)\n",
    "    print(f\"Penalty Winner Model Accuracy: {accuracy * 100:.2f}%\")\n",
    "\n",
    "    for i in range(len(X_test)):\n",
    "        if penalty_winner_predictions[i] == 1:\n",
    "            winner = \"Team A\"\n",
    "        else:\n",
    "            winner = \"Team B\"\n",
    "        print(f\"Predicted Penalty Winner: {winner}\")\n",
    "\n",
    "print(\"Predictions for Argentina:\")\n",
    "predict_penalty_winner('argentina.csv')\n",
    "\n",
    "print(\"\\nPredictions for France:\")\n",
    "predict_penalty_winner('france.csv')\n"
   ]
  },
  {
   "cell_type": "code",
   "execution_count": null,
   "id": "329324bd",
   "metadata": {},
   "outputs": [],
   "source": []
  }
 ],
 "metadata": {
  "kernelspec": {
   "display_name": "Python 3 (ipykernel)",
   "language": "python",
   "name": "python3"
  },
  "language_info": {
   "codemirror_mode": {
    "name": "ipython",
    "version": 3
   },
   "file_extension": ".py",
   "mimetype": "text/x-python",
   "name": "python",
   "nbconvert_exporter": "python",
   "pygments_lexer": "ipython3",
   "version": "3.10.9"
  }
 },
 "nbformat": 4,
 "nbformat_minor": 5
}
